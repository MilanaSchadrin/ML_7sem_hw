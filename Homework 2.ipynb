{
 "cells": [
  {
   "cell_type": "markdown",
   "metadata": {
    "id": "Qjl6x6og3uXH"
   },
   "source": [
    "# HW 2 - Разложение матриц градиентным методом"
   ]
  },
  {
   "cell_type": "markdown",
   "metadata": {
    "id": "Sv79QFb_-oNZ"
   },
   "source": [
    "Цель задания: В ходе реализации [разложения Таккера](https://proceedings.neurips.cc/paper/2018/file/45a766fa266ea2ebeb6680fa139d2a3d-Paper.pdf) градиентным методом освоить pyTorch и реализовать подходы оптимизации параметров модели (в отсутствии готовых решений)."
   ]
  },
  {
   "cell_type": "markdown",
   "metadata": {
    "id": "1HUSrylpBwYn"
   },
   "source": [
    "[Более-менее внятное описание алгоритма канонического разложения](https://www.alexejgossmann.com/tensor_decomposition_tucker/) - само аналитическое разложение вам реализовывать НЕ НУЖНО"
   ]
  },
  {
   "cell_type": "code",
   "execution_count": 1,
   "metadata": {
    "id": "P1PuoBtG7iw7"
   },
   "outputs": [],
   "source": [
    "import random\n",
    "import time\n",
    "import torch\n",
    "import pandas as pd\n",
    "import numpy as np\n",
    "\n",
    "from sklearn.metrics import mean_squared_error\n",
    "from torch import nn\n",
    "import torch\n",
    "torch.manual_seed(0)\n",
    "import tensorly as tl\n",
    "tl.set_backend('pytorch')\n",
    "from tensorly.decomposition import tucker\n",
    "from tensorly.tucker_tensor import tucker_to_tensor"
   ]
  },
  {
   "cell_type": "markdown",
   "metadata": {
    "id": "6LfhKpuX7htE"
   },
   "source": [
    "## 1 Создайте 3х мерный тензор\n",
    "Размер тензора не меньше 100 по каждой из размерностей.\n",
    "\n",
    "Заполните случайными целыми числами в диапазоне от 0 до 9."
   ]
  },
  {
   "cell_type": "markdown",
   "metadata": {
    "id": "ap1Ozn7P8-Yj"
   },
   "source": [
    "Примечание: разложение будет корректно работать со случайным тензором, только если изначально создавать случайные ядро и матрицы, а потом по ним формировать тензор. Работайте с типом *torch.Tensor.double*."
   ]
  },
  {
   "cell_type": "code",
   "execution_count": 2,
   "metadata": {
    "id": "5SzHzteOROQQ"
   },
   "outputs": [],
   "source": [
    "# Создадим тензор: размер тензора и r задаётся\n",
    "def get_tensor(size=(100,200,150),  r=(10,10,10)):\n",
    "    G = torch.randint(0, 10,  (r[0], r[1], r[2])).double()\n",
    "    data=G\n",
    "    U = []\n",
    "    i=0\n",
    "    for mode in range(len(size)):\n",
    "        U_mode = torch.randint(0, 10, (size[mode], r[i])).double()\n",
    "        U.append(U_mode)\n",
    "        i+=1\n",
    "    data = torch.tensordot(U[0], data, dims=([1], [0]))\n",
    "    data = torch.tensordot(U[1], data.permute([1, 0, 2]), dims=([1], [0]))\n",
    "    data = data.permute([1, 0, 2])\n",
    "    data = torch.tensordot(U[2], data.permute([2, 1, 0]), dims=([1], [0]))\n",
    "    data = data.permute([2, 1, 0])\n",
    "    return data, U, G"
   ]
  },
  {
   "cell_type": "markdown",
   "metadata": {
    "id": "EFuFlp2n78Tz"
   },
   "source": [
    "Сгенерируйте тензор и добавьте к нему случайный шум с размерностью *1e-2*"
   ]
  },
  {
   "cell_type": "code",
   "execution_count": 3,
   "metadata": {
    "id": "FnUbbsYSdrsw"
   },
   "outputs": [
    {
     "data": {
      "text/plain": [
       "(torch.Size([100, 200, 150]),\n",
       " [torch.Size([100, 10]), torch.Size([200, 10]), torch.Size([150, 10])],\n",
       " torch.Size([10, 10, 10]))"
      ]
     },
     "execution_count": 3,
     "metadata": {},
     "output_type": "execute_result"
    }
   ],
   "source": [
    "data, U, G = get_tensor((100, 200, 150), r=(10,10,10))\n",
    "data.shape, [u.shape for u in U], G.shape"
   ]
  },
  {
   "cell_type": "code",
   "execution_count": 4,
   "metadata": {
    "id": "N70Xy_6u9RFa"
   },
   "outputs": [],
   "source": [
    "noise = torch.randint(10, (data.shape))*1e-2\n",
    "data += noise"
   ]
  },
  {
   "cell_type": "markdown",
   "metadata": {
    "id": "kp75_Ad29RL5"
   },
   "source": [
    "Вопрос:\n",
    "Почему задание не имеет смысла для полностью случайного тензора и зачем добавлять шум? *не отвечать нельзя*"
   ]
  },
  {
   "cell_type": "markdown",
   "metadata": {
    "id": "5VLMaT5wyE11"
   },
   "source": [
    "Ответ:Если мы будем задавать случайно тензор, то там будет более белый шум. А если случайно задавать ядро и матрицы, то уже будет какая-то линейная зависимость.Получается если свосем случайно, то факторизация будет бесполезна потому что зависимостей просто не будет. Шум нужен из-за проблемы локальных минимумов."
   ]
  },
  {
   "cell_type": "markdown",
   "metadata": {
    "id": "TzninpMYD_hd"
   },
   "source": [
    "## 2 Реализуйте метод для восстановления тензора по разложению"
   ]
  },
  {
   "cell_type": "code",
   "execution_count": 5,
   "metadata": {
    "id": "YDTx9ZbYD-_S"
   },
   "outputs": [],
   "source": [
    "# Функция, восстанавливающая тензор по ядру и матрицам\n",
    "def repair_tensor(G_, U):\n",
    "    # data - восстановленный тензор из матриц и ядра\n",
    "    # U - список матриц\n",
    "    # G_ - ядро разложения\n",
    "    data = G_\n",
    "    for i in range(len(U)):\n",
    "        numbers = list(range(G_.dim()))\n",
    "        numbers[0], numbers[i] = numbers[i], numbers[0]\n",
    "        data = torch.tensordot(U[i], data.permute(numbers), dims=([1], [0]))\n",
    "        data = data.permute(numbers)\n",
    "    return data"
   ]
  },
  {
   "cell_type": "code",
   "execution_count": 6,
   "metadata": {
    "id": "KvEKNuTvIIfp"
   },
   "outputs": [
    {
     "data": {
      "text/plain": [
       "tensor([[[391196., 240491., 427949.,  ..., 484914., 317361., 444838.],\n",
       "         [355992., 212030., 382841.,  ..., 434238., 283499., 395766.],\n",
       "         [302047., 190021., 331190.,  ..., 382868., 250698., 342781.],\n",
       "         ...,\n",
       "         [437404., 266366., 468995.,  ..., 538779., 354703., 491976.],\n",
       "         [265587., 170152., 295414.,  ..., 336786., 219840., 303253.],\n",
       "         [305985., 189582., 337558.,  ..., 386055., 249784., 352598.]],\n",
       "\n",
       "        [[421714., 267235., 462961.,  ..., 533175., 352275., 480208.],\n",
       "         [382943., 235669., 412822.,  ..., 476327., 317024., 431067.],\n",
       "         [312447., 199715., 348214.,  ..., 404103., 262940., 358789.],\n",
       "         ...,\n",
       "         [462335., 287189., 502304.,  ..., 577464., 379490., 518856.],\n",
       "         [276353., 181080., 309407.,  ..., 356475., 234583., 319343.],\n",
       "         [326341., 207296., 364506.,  ..., 419285., 269834., 374717.]],\n",
       "\n",
       "        [[518378., 326842., 553912.,  ..., 639855., 430007., 581615.],\n",
       "         [464645., 284175., 492879.,  ..., 567316., 381493., 518150.],\n",
       "         [375831., 239176., 414216.,  ..., 479905., 317056., 429471.],\n",
       "         ...,\n",
       "         [569338., 356225., 608017.,  ..., 702151., 471698., 635357.],\n",
       "         [334337., 219194., 372509.,  ..., 427754., 285363., 387183.],\n",
       "         [397481., 252801., 435024.,  ..., 502704., 331553., 452527.]],\n",
       "\n",
       "        ...,\n",
       "\n",
       "        [[271549., 179315., 309955.,  ..., 354788., 229746., 311627.],\n",
       "         [251293., 163119., 282309.,  ..., 319750., 209766., 285037.],\n",
       "         [210847., 138508., 234615.,  ..., 268478., 180769., 239486.],\n",
       "         ...,\n",
       "         [309676., 196689., 340300.,  ..., 391468., 258395., 347388.],\n",
       "         [184468., 126492., 212911.,  ..., 241783., 160050., 214158.],\n",
       "         [209428., 135976., 236481.,  ..., 272285., 175714., 238128.]],\n",
       "\n",
       "        [[278882., 178487., 308740.,  ..., 357245., 235214., 321035.],\n",
       "         [256797., 162431., 278002.,  ..., 323622., 215653., 290106.],\n",
       "         [211737., 136227., 236188.,  ..., 269800., 177989., 242507.],\n",
       "         ...,\n",
       "         [309990., 190900., 334919.,  ..., 385156., 255472., 348184.],\n",
       "         [183677., 122471., 207550.,  ..., 238696., 157418., 214100.],\n",
       "         [216278., 136786., 240980.,  ..., 272801., 177393., 248387.]],\n",
       "\n",
       "        [[410949., 252185., 440201.,  ..., 509867., 337093., 460149.],\n",
       "         [373065., 224557., 394056.,  ..., 457722., 305732., 413356.],\n",
       "         [314720., 193258., 335188.,  ..., 396237., 261886., 347583.],\n",
       "         ...,\n",
       "         [449151., 276167., 479389.,  ..., 554538., 368691., 500027.],\n",
       "         [278680., 175800., 298525.,  ..., 350416., 233510., 311039.],\n",
       "         [326291., 199450., 351590.,  ..., 409014., 266052., 364341.]]],\n",
       "       dtype=torch.float64)"
      ]
     },
     "execution_count": 6,
     "metadata": {},
     "output_type": "execute_result"
    }
   ],
   "source": [
    "r1 = (10, 10, 10)\n",
    "_, U1, G1 = get_tensor(size=(100, 200, 150), r=r1)\n",
    "data1 = repair_tensor(G1, U1)\n",
    "data1"
   ]
  },
  {
   "cell_type": "markdown",
   "metadata": {
    "id": "MKqzxtaE-F16"
   },
   "source": [
    "## 3 Сделайте разложение библиотечным методом\n",
    "Пакет можете брать любой"
   ]
  },
  {
   "cell_type": "code",
   "execution_count": 7,
   "metadata": {
    "id": "Hlp4Jh3--fKh"
   },
   "outputs": [
    {
     "data": {
      "text/plain": [
       "1.1644858666972847e-19"
      ]
     },
     "execution_count": 7,
     "metadata": {},
     "output_type": "execute_result"
    }
   ],
   "source": [
    "import tensorly as tl\n",
    "tl.set_backend('pytorch')\n",
    "from tensorly.decomposition import tucker\n",
    "from tensorly.tucker_tensor import tucker_to_tensor\n",
    "G2, U2 = tucker(data1, r1)\n",
    "re_data1 = tucker_to_tensor((G2, U2))\n",
    "mean_squared_error(data1.detach().numpy().flatten(), re_data1.detach().numpy().flatten())"
   ]
  },
  {
   "cell_type": "markdown",
   "metadata": {
    "id": "wMw1x8w8-lsh"
   },
   "source": [
    "Не забудьте померить ошибку разложения по метрике MSE"
   ]
  },
  {
   "cell_type": "code",
   "execution_count": null,
   "metadata": {
    "id": "HWkdb7Ip-mL3"
   },
   "outputs": [],
   "source": []
  },
  {
   "cell_type": "markdown",
   "metadata": {
    "id": "ibOgeEgfD1wm"
   },
   "source": [
    "## 4 Реализуйте разложение градиентным методом"
   ]
  },
  {
   "cell_type": "markdown",
   "metadata": {
    "id": "GstBYmiBF7A6"
   },
   "source": [
    "### 4.1 Реализуйте *optimizer*\n",
    "Можно взять из исходников *PyTorch* и отнаследоваться от *torch.optim.optimizer*.\n",
    "Используйте квадратичный *Loss*."
   ]
  },
  {
   "cell_type": "code",
   "execution_count": 8,
   "metadata": {},
   "outputs": [],
   "source": [
    "import math\n",
    "import torch\n",
    "import torch.nn as nn \n",
    "from torch.optim.optimizer import Optimizer\n",
    "\n",
    "class MyOptimizer(torch.optim.Optimizer): \n",
    "    def __init__(self, params, lr=1e-3, betas=(0.9, 0.999),  eps=1e-8):\n",
    "        defaults = dict(lr=lr, betas=betas, eps=eps)\n",
    "        super().__init__(params, defaults)\n",
    "        #self.weight_decay = weight_decay\n",
    "  \n",
    "    def step(self, closure=None ):\n",
    "        loss = None\n",
    "        if closure is not None:\n",
    "            loss = closure()\n",
    "        for group in self.param_groups:\n",
    "            for p in group['params']:\n",
    "                \n",
    "                if p.grad is None:\n",
    "                    continue\n",
    "                    \n",
    "                grad = p.grad.data\n",
    "                #if grad.is_sparse: \n",
    "                    #raise RuntimeError(\"Adam does not support sparse gradients\") \n",
    "                state = self.state[p]\n",
    "                # State initialization \n",
    "                if len(state) == 0:\n",
    "                    state['step'] = 0\n",
    "                    # Exponential moving average of gradient values \n",
    "                    state['exp_avg'] = torch.zeros_like(p.data) \n",
    "                    # Exponential moving average of squared gradient values \n",
    "                    state['exp_avg_sq'] = torch.zeros_like(p.data)\n",
    "                exp_avg, exp_avg_sq = state['exp_avg'], state['exp_avg_sq']\n",
    "                beta1, beta2 = group['betas']\n",
    "                state['step'] += 1\n",
    "                #if self.weight_decay != 0: \n",
    "                    #grad = grad.add(p.data, alpha=self.weight_decay) \n",
    "  \n",
    "                # Decay the first and second moment running average coefficient\n",
    "                exp_avg.mul_(beta1).add_(grad, alpha=(1 - beta1))\n",
    "                exp_avg_sq.mul_(beta2).addcmul_(grad, grad, value=(1 - beta2))\n",
    "                #bias_correction1 = 1 - beta1 ** state[\"step\"] \n",
    "                #bias_correction2 = 1 - beta2 ** state[\"step\"]\n",
    "                #step_size = group[\"lr\"] * math.sqrt(bias_correction2) / bias_correction1 \n",
    "                exp_avg_hat = exp_avg / (1 - beta1 ** state['step'])\n",
    "                exp_avg_sq_hat = exp_avg_sq / (1 - beta2 ** state['step'])\n",
    "                \n",
    "                \n",
    "                denom = exp_avg_sq_hat.sqrt().add_(group['eps'])\n",
    "                \n",
    "        return loss"
   ]
  },
  {
   "cell_type": "markdown",
   "metadata": {
    "id": "8GSolH5dEJba"
   },
   "source": [
    "### 4.2 Реализуйте цикл оптимизации параметров"
   ]
  },
  {
   "cell_type": "markdown",
   "metadata": {
    "id": "P6UWpuERFTn8"
   },
   "source": [
    "Стоит параметры оптимизировать сразу на GPU"
   ]
  },
  {
   "cell_type": "code",
   "execution_count": 9,
   "metadata": {},
   "outputs": [
    {
     "name": "stdout",
     "output_type": "stream",
     "text": [
      "Time 11.46 \n",
      "MSE tensor(2.8516e-05, dtype=torch.float64, grad_fn=<MseLossBackward0>)\n"
     ]
    }
   ],
   "source": [
    "r = (10, 10, 10)\n",
    "size = (100, 100, 100)\n",
    "data_train, U, G = get_tensor(size, r)\n",
    "noise = torch.randint(10, (data_train.shape))*1e-3\n",
    "data_train += noise\n",
    "data_train = data_train.detach()\n",
    "\n",
    "model =[nn.Parameter(G), nn.Parameter(U[0]), nn.Parameter(U[1]), nn.Parameter(U[2])]\n",
    "\n",
    "loss_m = nn.MSELoss()\n",
    "device=torch.device(\"cpu\")\n",
    "data=data_train.to(device)\n",
    "for i in range(len(model)):\n",
    "    model[i].to(device)\n",
    "optimizer = MyOptimizer(model)\n",
    "num_epochs = 1000\n",
    "start_time = time.time()\n",
    "for epoch in range(num_epochs):\n",
    "    optimizer.zero_grad()\n",
    "    data_repair=repair_tensor(model[0], [model[1], model[2], model[3]])\n",
    "    mse_loss=loss_m(data_repair, data)\n",
    "    mse_loss.backward()\n",
    "    optimizer.step()\n",
    "end_time = time.time()\n",
    "total_time = end_time - start_time\n",
    "print(f\"Time {total_time:.2f} \")\n",
    "print('MSE', mse_loss)"
   ]
  },
  {
   "cell_type": "markdown",
   "metadata": {
    "id": "Za8JKgR-Falk"
   },
   "source": [
    "## 5 Приведите сравнение скорости работы и ошибки восстановления методом из пакета и реализованного градиентного\n",
    "Сравнение может считаться ± объективным с размером выборки от 10."
   ]
  },
  {
   "cell_type": "code",
   "execution_count": 10,
   "metadata": {},
   "outputs": [],
   "source": [
    "def pack(G,U, data, mse_calculator):\n",
    "    start_time = time.time()\n",
    "    tensor=tucker_to_tensor((G, U))\n",
    "    mse_calculator = torch.nn.MSELoss()\n",
    "    loss = mse_calculator(tensor, data).item()\n",
    "    end_time = time.time()\n",
    "    return loss, end_time - start_time"
   ]
  },
  {
   "cell_type": "code",
   "execution_count": 11,
   "metadata": {},
   "outputs": [],
   "source": [
    "mse_analitic=[]\n",
    "mse_my=[]\n",
    "time_analitic=[]\n",
    "time_my=[]\n",
    "for i in range(10):\n",
    "    size=(100,100,100)\n",
    "    r=(10,10,10)\n",
    "    mse_calculator = torch.nn.MSELoss()\n",
    "    data, U, G = get_tensor(size, r)\n",
    "    data += noise\n",
    "    data = data.detach()\n",
    "    losses, times = pack(G, U, data, mse_calculator)\n",
    "    mse_analitic.append(losses)\n",
    "    time_analitic.append(times)\n",
    "    \n",
    "    model =[nn.Parameter(G), nn.Parameter(U[0]), nn.Parameter(U[1]), nn.Parameter(U[2])]\n",
    "    device=torch.device(\"cpu\")\n",
    "    noise = torch.randint(10, (data.shape))*1e-3\n",
    "    data += noise\n",
    "    data = data.detach()\n",
    "    data = data.to(device)\n",
    "    num_epochs = 100\n",
    "    for i in range(len(model)):\n",
    "        model[i].to(device)\n",
    "    optimizer = MyOptimizer(model)\n",
    "    start_time=time.time()\n",
    "    for epoch in range(num_epochs):\n",
    "        optimizer.zero_grad()\n",
    "        r=repair_tensor(model[0], [model[1], model[2], model[3]])\n",
    "        mse_loss=mse_calculator(r, data)\n",
    "        mse_loss.backward()\n",
    "        optimizer.step()\n",
    "    end_time=time.time()\n",
    "    time_my.append(end_time-start_time)\n",
    "    mse_my.append( mean_squared_error(r.detach().numpy().flatten(), data.detach().numpy().flatten()))"
   ]
  },
  {
   "cell_type": "code",
   "execution_count": 12,
   "metadata": {},
   "outputs": [
    {
     "name": "stdout",
     "output_type": "stream",
     "text": [
      "[2.85162525239655e-05, 2.8548007527319668e-05, 2.8527125525104782e-05, 2.847619751815138e-05, 2.851625452195799e-05, 2.8487641519640138e-05, 2.8457716517352715e-05, 2.8528828523399727e-05, 2.8547556528375785e-05, 2.850674452179383e-05]\n",
      "[9.761930148631755e-05, 9.765493849027267e-05, 9.752757847479895e-05, 9.751046946888844e-05, 9.755817547470085e-05, 9.741241346363134e-05, 9.749990647053903e-05, 9.763531848674849e-05, 9.757001248154531e-05, 9.751982446873616e-05]\n",
      "[0.005001544952392578, 0.00299835205078125, 0.0030045509338378906, 0.002996206283569336, 0.0019936561584472656, 0.002000570297241211, 0.0030002593994140625, 0.0035400390625, 0.0030002593994140625, 0.002000570297241211]\n",
      "[1.2317838668823242, 1.2066693305969238, 1.1118974685668945, 1.0939466953277588, 1.063140630722046, 1.124406337738037, 1.2799365520477295, 1.1215097904205322, 1.0862112045288086, 1.0781877040863037]\n"
     ]
    }
   ],
   "source": [
    "print(mse_analitic)\n",
    "print(mse_my)\n",
    "print(time_analitic)\n",
    "print(time_my)"
   ]
  },
  {
   "cell_type": "code",
   "execution_count": 13,
   "metadata": {},
   "outputs": [
    {
     "name": "stdout",
     "output_type": "stream",
     "text": [
      "2.8457716517352715e-05 9.741241346363134e-05\n"
     ]
    }
   ],
   "source": [
    "print(min(mse_analitic),min(mse_my))"
   ]
  },
  {
   "cell_type": "code",
   "execution_count": 14,
   "metadata": {},
   "outputs": [
    {
     "name": "stdout",
     "output_type": "stream",
     "text": [
      "0.0019936561584472656 1.063140630722046\n"
     ]
    }
   ],
   "source": [
    "print(min(time_analitic),min(time_my))"
   ]
  },
  {
   "cell_type": "code",
   "execution_count": 15,
   "metadata": {},
   "outputs": [
    {
     "name": "stdout",
     "output_type": "stream",
     "text": [
      "2.851123252270615e-05 9.755079387661789e-05\n"
     ]
    }
   ],
   "source": [
    "print(np.mean(mse_analitic), np.mean(mse_my))"
   ]
  },
  {
   "cell_type": "code",
   "execution_count": 16,
   "metadata": {},
   "outputs": [
    {
     "name": "stdout",
     "output_type": "stream",
     "text": [
      "0.0029536008834838865 1.1397689580917358\n"
     ]
    }
   ],
   "source": [
    "print(np.mean(time_analitic), np.mean(time_my))"
   ]
  },
  {
   "cell_type": "code",
   "execution_count": 17,
   "metadata": {},
   "outputs": [
    {
     "data": {
      "image/png": "[encoded data removed]",
      "text/plain": [
       "<Figure size 640x480 with 1 Axes>"
      ]
     },
     "metadata": {},
     "output_type": "display_data"
    },
    {
     "data": {
      "image/png": "[encoded data removed]",
      "text/plain": [
       "<Figure size 640x480 with 1 Axes>"
      ]
     },
     "metadata": {},
     "output_type": "display_data"
    },
    {
     "data": {
      "image/png": "[encoded data removed]",
      "text/plain": [
       "<Figure size 640x480 with 1 Axes>"
      ]
     },
     "metadata": {},
     "output_type": "display_data"
    },
    {
     "data": {
      "image/png": "[encoded data removed]",
      "text/plain": [
       "<Figure size 640x480 with 1 Axes>"
      ]
     },
     "metadata": {},
     "output_type": "display_data"
    }
   ],
   "source": [
    "import matplotlib.pyplot as plt\n",
    "plt.boxplot(mse_analitic)\n",
    "plt.show()\n",
    "plt.boxplot(mse_my)\n",
    "plt.show()\n",
    "plt.boxplot(time_analitic)\n",
    "plt.show()\n",
    "plt.boxplot(time_my)\n",
    "plt.show()"
   ]
  },
  {
   "cell_type": "code",
   "execution_count": 18,
   "metadata": {},
   "outputs": [
    {
     "data": {
      "image/png": "[encoded data removed]",
      "text/plain": [
       "<Figure size 640x480 with 1 Axes>"
      ]
     },
     "metadata": {},
     "output_type": "display_data"
    },
    {
     "data": {
      "image/png": "[encoded data removed]",
      "text/plain": [
       "<Figure size 640x480 with 1 Axes>"
      ]
     },
     "metadata": {},
     "output_type": "display_data"
    }
   ],
   "source": [
    "plt.plot(mse_analitic)\n",
    "plt.show()\n",
    "plt.plot(mse_my)\n",
    "plt.show()"
   ]
  }
 ],
 "metadata": {
  "colab": {
   "provenance": []
  },
  "kernelspec": {
   "display_name": "Python 3 (ipykernel)",
   "language": "python",
   "name": "python3"
  },
  "language_info": {
   "codemirror_mode": {
    "name": "ipython",
    "version": 3
   },
   "file_extension": ".py",
   "mimetype": "text/x-python",
   "name": "python",
   "nbconvert_exporter": "python",
   "pygments_lexer": "ipython3",
   "version": "3.11.5"
  }
 },
 "nbformat": 4,
 "nbformat_minor": 4
}
